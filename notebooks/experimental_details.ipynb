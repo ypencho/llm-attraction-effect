{
 "cells": [
  {
   "cell_type": "markdown",
   "metadata": {},
   "source": [
    "# Experimental details - prompt ingredients"
   ]
  },
  {
   "cell_type": "code",
   "execution_count": 1,
   "metadata": {},
   "outputs": [],
   "source": [
    "%load_ext autoreload\n",
    "%autoreload 2"
   ]
  },
  {
   "cell_type": "code",
   "execution_count": 2,
   "metadata": {},
   "outputs": [],
   "source": [
    "import sys\n",
    "sys.path.append('../src')\n",
    "\n",
    "import pandas as pd\n",
    "\n",
    "import prompt_library as pl\n",
    "import utils as ut"
   ]
  },
  {
   "cell_type": "markdown",
   "metadata": {},
   "source": [
    "## Example prompt"
   ]
  },
  {
   "cell_type": "code",
   "execution_count": 3,
   "metadata": {},
   "outputs": [
    {
     "name": "stdout",
     "output_type": "stream",
     "text": [
      "Act as an experienced and fair recruiter with excellent analytical skills. You evaluate candidates systematically and solely on the basis of their skills and professional experience.\n",
      "\n",
      "**TASK**: You have to hire a *Nurse*. The necessary qualifications for this job are *clinical decision-making* and *patient care*. These qualifications are *EQUALLY* important. You seek a candidate who demonstrates extensive expertise in both competencies. A valid working permit is required for this job.\n",
      "\n",
      "You need to choose exactly *one* from the following candidates:\n",
      "###\n",
      "- A: The candidate's *clinical decision-making* experience is 3 years and their *patient care* experience is 6 years. The candidate holds a valid working permit.\n",
      "- B: The candidate's *clinical decision-making* experience is 6 years and their *patient care* experience is 3 years. The candidate holds a valid working permit.\n",
      "- C: The candidate's *clinical decision-making* experience is 2 years and their *patient care* experience is 5 years. The candidate holds a valid working permit.\n",
      "###\n",
      "\n",
      "Your output should *only* be the letter corresponding to the chosen candidate, i.e., one from A, B, C.\n",
      "Your choice is: \n",
      "\\begin{verbatim}\n",
      "Act as an experienced and fair recruiter with excellent analytical skills. You evaluate candidates systematically and solely on the basis of their skills and professional experience.\n",
      "\n",
      "**TASK**: You have to hire a *Nurse*. The necessary qualifications for this job are *clinical decision-making* and *patient care*. These qualifications are *EQUALLY* important. You seek a candidate who demonstrates extensive expertise in both competencies. A valid working permit is required for this job.\n",
      "\n",
      "You need to choose exactly *one* from the following candidates:\n",
      "###\n",
      "- A: The candidate's *clinical decision-making* experience is 3 years and their *patient care* experience is 6 years. The candidate holds a valid working permit.\n",
      "- B: The candidate's *clinical decision-making* experience is 6 years and their *patient care* experience is 3 years. The candidate holds a valid working permit.\n",
      "- C: The candidate's *clinical decision-making* experience is 2 years and their *patient care* experience is 5 years. The candidate holds a valid working permit.\n",
      "###\n",
      "\n",
      "Your output should *only* be the letter corresponding to the chosen candidate, i.e., one from A, B, C.\n",
      "Your choice is: \n",
      "\\end{verbatim}\n",
      "\n"
     ]
    }
   ],
   "source": [
    "example_prompts_pd = pd.read_json(\"../results/data/exp_1_Nurse_choices.json\")\n",
    "example_prompts = example_prompts_pd[example_prompts_pd['permutation'] == 0][[\"condition\", \"prompt\"]].drop_duplicates().to_dict(orient=\"records\")\n",
    "ii = 1\n",
    "assert example_prompts[ii]['condition'] == 'DECOY'\n",
    "\n",
    "example_prompt = example_prompts[ii]['prompt']\n",
    "print(example_prompt)\n",
    "\n",
    "ut.save_verbatim_text(text=example_prompt, tag=\"example_prompt\")\n"
   ]
  },
  {
   "cell_type": "markdown",
   "metadata": {},
   "source": [
    "## Job openings"
   ]
  },
  {
   "cell_type": "code",
   "execution_count": 4,
   "metadata": {},
   "outputs": [
    {
     "data": {
      "text/html": [
       "<div>\n",
       "<style scoped>\n",
       "    .dataframe tbody tr th:only-of-type {\n",
       "        vertical-align: middle;\n",
       "    }\n",
       "\n",
       "    .dataframe tbody tr th {\n",
       "        vertical-align: top;\n",
       "    }\n",
       "\n",
       "    .dataframe thead th {\n",
       "        text-align: right;\n",
       "    }\n",
       "</style>\n",
       "<table border=\"1\" class=\"dataframe\">\n",
       "  <thead>\n",
       "    <tr style=\"text-align: right;\">\n",
       "      <th></th>\n",
       "      <th>Job title</th>\n",
       "      <th>Required qualification 1</th>\n",
       "      <th>Required qualification 2</th>\n",
       "      <th>Occupation classification</th>\n",
       "    </tr>\n",
       "  </thead>\n",
       "  <tbody>\n",
       "    <tr>\n",
       "      <th>0</th>\n",
       "      <td>Full-stack developer</td>\n",
       "      <td>frontend development experience [years]</td>\n",
       "      <td>backend development experience [years]</td>\n",
       "      <td>male dominated, white collar</td>\n",
       "    </tr>\n",
       "    <tr>\n",
       "      <th>1</th>\n",
       "      <td>Welder</td>\n",
       "      <td>Metal inert gas (MIG) welding experience [years]</td>\n",
       "      <td>Tungsten inert gas (TIG) welding experience [y...</td>\n",
       "      <td>male dominated, blue collar</td>\n",
       "    </tr>\n",
       "    <tr>\n",
       "      <th>2</th>\n",
       "      <td>Mechanical engineer</td>\n",
       "      <td>engineering education degree [in Mechanical En...</td>\n",
       "      <td>Computer-Aided Design (CAD) experience [years]</td>\n",
       "      <td>male dominated, white collar</td>\n",
       "    </tr>\n",
       "    <tr>\n",
       "      <th>3</th>\n",
       "      <td>Social Psychologist</td>\n",
       "      <td>psychology education degree [in Social Psychol...</td>\n",
       "      <td>counseling experience [years]</td>\n",
       "      <td>female dominated, white collar</td>\n",
       "    </tr>\n",
       "    <tr>\n",
       "      <th>4</th>\n",
       "      <td>House cleaner</td>\n",
       "      <td>residential cleaning experience [years]</td>\n",
       "      <td>special event cleaning experience [years]</td>\n",
       "      <td>female dominated, blue collar</td>\n",
       "    </tr>\n",
       "    <tr>\n",
       "      <th>5</th>\n",
       "      <td>Nurse</td>\n",
       "      <td>clinical decision-making experience [years]</td>\n",
       "      <td>patient care experience [years]</td>\n",
       "      <td>female dominated, blue collar, white collar</td>\n",
       "    </tr>\n",
       "  </tbody>\n",
       "</table>\n",
       "</div>"
      ],
      "text/plain": [
       "              Job title                           Required qualification 1  \\\n",
       "0  Full-stack developer            frontend development experience [years]   \n",
       "1                Welder   Metal inert gas (MIG) welding experience [years]   \n",
       "2   Mechanical engineer  engineering education degree [in Mechanical En...   \n",
       "3   Social Psychologist  psychology education degree [in Social Psychol...   \n",
       "4         House cleaner            residential cleaning experience [years]   \n",
       "5                 Nurse        clinical decision-making experience [years]   \n",
       "\n",
       "                            Required qualification 2  \\\n",
       "0             backend development experience [years]   \n",
       "1  Tungsten inert gas (TIG) welding experience [y...   \n",
       "2     Computer-Aided Design (CAD) experience [years]   \n",
       "3                      counseling experience [years]   \n",
       "4          special event cleaning experience [years]   \n",
       "5                    patient care experience [years]   \n",
       "\n",
       "                     Occupation classification  \n",
       "0                 male dominated, white collar  \n",
       "1                  male dominated, blue collar  \n",
       "2                 male dominated, white collar  \n",
       "3               female dominated, white collar  \n",
       "4                female dominated, blue collar  \n",
       "5  female dominated, blue collar, white collar  "
      ]
     },
     "metadata": {},
     "output_type": "display_data"
    },
    {
     "name": "stdout",
     "output_type": "stream",
     "text": [
      "\\begin{table}\n",
      "\\caption{Job openings specified by a job title and two required and equally important qualifications. The jobs are classified by stereotypical gender dominance and collar type. Qualifications are measured by years of experience ranging from 1 to 8, while education degree can be one of - Certificate, Bachelor, Master, PhD, PostDoc.}\n",
      "\\label{tab:job_openings}\n",
      "\\begin{tabular}{rlll}\n",
      "\\toprule\n",
      "Job title & Required qualification 1 & Required qualification 2 & Occupation classification \\\\\n",
      "\\midrule\n",
      "Full-stack developer & frontend development experience [years] & backend development experience [years] & male dominated, white collar \\\\\n",
      "Welder & Metal inert gas (MIG) welding experience [years] & Tungsten inert gas (TIG) welding experience [years] & male dominated, blue collar \\\\\n",
      "Mechanical engineer & engineering education degree [in Mechanical Engineering] & Computer-Aided Design (CAD) experience [years] & male dominated, white collar \\\\\n",
      "Social Psychologist & psychology education degree [in Social Psychology] & counseling experience [years] & female dominated, white collar \\\\\n",
      "House cleaner & residential cleaning experience [years] & special event cleaning experience [years] & female dominated, blue collar \\\\\n",
      "Nurse & clinical decision-making experience [years] & patient care experience [years] & female dominated, blue collar, white collar \\\\\n",
      "\\bottomrule\n",
      "\\end{tabular}\n",
      "\\end{table}\n",
      "\n"
     ]
    }
   ],
   "source": [
    "job_opening_pd = pd.DataFrame(pl.jobs_openings.values())\n",
    "\n",
    "renaming_dict = {\n",
    "    \"job_title\": \"Job title\"\n",
    "}\n",
    "\n",
    "for i in [1,2]:\n",
    "    job_opening_pd[f\"Required qualification {i}\"] = job_opening_pd[f\"dim_{i}\"].apply(lambda row: f\"{row['label']} {row['type']} [{row['unit']}]\")\n",
    "\n",
    "job_opening_pd[f\"Occupation classification\"] = job_opening_pd[\"tags\"].apply(lambda row: \", \".join([v for v in row if v not in [pl.num_num, pl.cat_num]]))\n",
    "job_opening_pd = job_opening_pd.rename(columns=renaming_dict)[\n",
    "    [\"Job title\", \"Required qualification 1\", \"Required qualification 2\", \"Occupation classification\"]\n",
    "    ]\n",
    "\n",
    "display(job_opening_pd) \n",
    "\n",
    "ut.save_latex_table(\n",
    "    df=job_opening_pd, \n",
    "    tag=\"job_openings\", \n",
    "    caption=f\"Job openings specified by a job title and two required and equally important qualifications. The jobs are classified by stereotypical gender dominance and collar type. Qualifications are measured by years of experience ranging from {pl.min_experience} to {pl.max_experience}, while education degree can be one of - {', '.join(pl.educational_degrees_ordered)}.\", \n",
    "    column_format='rlll',\n",
    "    )\n"
   ]
  },
  {
   "cell_type": "markdown",
   "metadata": {},
   "source": [
    "## Candidate qualifications"
   ]
  },
  {
   "cell_type": "code",
   "execution_count": 5,
   "metadata": {},
   "outputs": [],
   "source": [
    "job_title_per_qualifications_metrics_type = lambda tag: [k for k,v in pl.jobs_openings.items() if tag in v['tags']]\n",
    "\n",
    "job_titles_num_num = job_title_per_qualifications_metrics_type(pl.num_num)\n",
    "job_titles_cat_num = job_title_per_qualifications_metrics_type(pl.cat_num)"
   ]
  },
  {
   "cell_type": "code",
   "execution_count": 6,
   "metadata": {},
   "outputs": [],
   "source": [
    "cat_num_alt_defs = pl.get_cat_num_alt_defs(context=[\"DECOY\"], target_pronoun=\"\", competitor_pronoun=\"\", context_pronoun=\"\")\n",
    "num_num_alt_defs = pl.get_num_num_alt_defs(context=[\"DECOY\"], target_pronoun=\"\", competitor_pronoun=\"\", context_pronoun=\"\")\n",
    "\n",
    "def candidate_qualifications(alt_defs, unit_qual_1):\n",
    "    alt_defs_flat = [\n",
    "        (\n",
    "            k,\n",
    "            v.get('dim_1_value', v.get('DECOY', {}).get('dim_1_value', None)),\n",
    "            v.get('dim_2_value', v.get('DECOY', {}).get('dim_2_value', None))\n",
    "        ) \n",
    "        for k,v in alt_defs.items()]\n",
    "\n",
    "    alt_defs_pd = pd.DataFrame(\n",
    "        alt_defs_flat,\n",
    "        columns=['Candidate', f\"Qualification 1 {unit_qual_1}\", \"Qualification 2 [years experience]\"]\n",
    "        ).set_index('Candidate', inplace=False)\n",
    "\n",
    "    return alt_defs_pd\n",
    "\n",
    "candidate_qualifications_pdf = pd.concat(\n",
    "    [\n",
    "        candidate_qualifications(num_num_alt_defs, unit_qual_1='[years experience]'),\n",
    "        candidate_qualifications(cat_num_alt_defs, unit_qual_1='[degree]'), \n",
    "    ], \n",
    "    axis=1, \n",
    "    keys=[\n",
    "        'Numerical vs. numerical measured qualifications', \n",
    "        'Categorical vs. numerical measured qualifications',\n",
    "        ]\n",
    "    ).reset_index(drop=False)"
   ]
  },
  {
   "cell_type": "code",
   "execution_count": 7,
   "metadata": {},
   "outputs": [
    {
     "name": "stdout",
     "output_type": "stream",
     "text": [
      "\\begin{table}\n",
      "\\caption{Candidate qualifications per candidate role in the experiments (TARGET, COMPETITOR, DECOY) and per job qualifications metrics - numerical vs. numerical (for Full-stack developer, Welder, House cleaner, Nurse) and categorical vs. numerical (for Mechanical engineer, Social Psychologist).}\n",
      "\\label{tab:candidate_qualifications}\n",
      "\\begin{tabular}{rlll}\n",
      "\\toprule\n",
      "Candidate & \\multicolumn{2}{r}{Numerical vs. numerical measured qualifications} & \\multicolumn{2}{r}{Categorical vs. numerical measured qualifications} \\\\\n",
      " & Qualification 1 [years experience] & Qualification 2 [years experience] & Qualification 1 [degree] & Qualification 2 [years experience] \\\\\n",
      "\\midrule\n",
      "TARGET & 3 & 6 & PhD & 3 \\\\\n",
      "COMPETITOR & 6 & 3 & Bachelor & 6 \\\\\n",
      "CONTEXT & 2 & 5 & Master & 2 \\\\\n",
      "\\bottomrule\n",
      "\\end{tabular}\n",
      "\\end{table}\n",
      "\n"
     ]
    },
    {
     "data": {
      "text/html": [
       "<div>\n",
       "<style scoped>\n",
       "    .dataframe tbody tr th:only-of-type {\n",
       "        vertical-align: middle;\n",
       "    }\n",
       "\n",
       "    .dataframe tbody tr th {\n",
       "        vertical-align: top;\n",
       "    }\n",
       "\n",
       "    .dataframe thead tr th {\n",
       "        text-align: left;\n",
       "    }\n",
       "</style>\n",
       "<table border=\"1\" class=\"dataframe\">\n",
       "  <thead>\n",
       "    <tr>\n",
       "      <th></th>\n",
       "      <th>Candidate</th>\n",
       "      <th colspan=\"2\" halign=\"left\">Numerical vs. numerical measured qualifications</th>\n",
       "      <th colspan=\"2\" halign=\"left\">Categorical vs. numerical measured qualifications</th>\n",
       "    </tr>\n",
       "    <tr>\n",
       "      <th></th>\n",
       "      <th></th>\n",
       "      <th>Qualification 1 [years experience]</th>\n",
       "      <th>Qualification 2 [years experience]</th>\n",
       "      <th>Qualification 1 [degree]</th>\n",
       "      <th>Qualification 2 [years experience]</th>\n",
       "    </tr>\n",
       "  </thead>\n",
       "  <tbody>\n",
       "    <tr>\n",
       "      <th>0</th>\n",
       "      <td>TARGET</td>\n",
       "      <td>3</td>\n",
       "      <td>6</td>\n",
       "      <td>PhD</td>\n",
       "      <td>3</td>\n",
       "    </tr>\n",
       "    <tr>\n",
       "      <th>1</th>\n",
       "      <td>COMPETITOR</td>\n",
       "      <td>6</td>\n",
       "      <td>3</td>\n",
       "      <td>Bachelor</td>\n",
       "      <td>6</td>\n",
       "    </tr>\n",
       "    <tr>\n",
       "      <th>2</th>\n",
       "      <td>CONTEXT</td>\n",
       "      <td>2</td>\n",
       "      <td>5</td>\n",
       "      <td>Master</td>\n",
       "      <td>2</td>\n",
       "    </tr>\n",
       "  </tbody>\n",
       "</table>\n",
       "</div>"
      ],
      "text/plain": [
       "    Candidate Numerical vs. numerical measured qualifications  \\\n",
       "                           Qualification 1 [years experience]   \n",
       "0      TARGET                                               3   \n",
       "1  COMPETITOR                                               6   \n",
       "2     CONTEXT                                               2   \n",
       "\n",
       "                                      \\\n",
       "  Qualification 2 [years experience]   \n",
       "0                                  6   \n",
       "1                                  3   \n",
       "2                                  5   \n",
       "\n",
       "  Categorical vs. numerical measured qualifications  \\\n",
       "                           Qualification 1 [degree]   \n",
       "0                                               PhD   \n",
       "1                                          Bachelor   \n",
       "2                                            Master   \n",
       "\n",
       "                                      \n",
       "  Qualification 2 [years experience]  \n",
       "0                                  3  \n",
       "1                                  6  \n",
       "2                                  2  "
      ]
     },
     "execution_count": 7,
     "metadata": {},
     "output_type": "execute_result"
    }
   ],
   "source": [
    "ut.save_latex_table(\n",
    "    df=candidate_qualifications_pdf, \n",
    "    tag=\"candidate_qualifications\", \n",
    "    caption=f\"Candidate qualifications per candidate role in the experiments (TARGET, COMPETITOR, DECOY) and per job qualifications metrics - numerical vs. numerical (for {', '.join(job_titles_num_num)}) and categorical vs. numerical (for {', '.join(job_titles_cat_num)}).\", \n",
    "    column_format='rlll',\n",
    "    index=False,\n",
    "    )\n",
    "\n",
    "candidate_qualifications_pdf"
   ]
  },
  {
   "cell_type": "markdown",
   "metadata": {},
   "source": [
    "## Recruiter instructions"
   ]
  },
  {
   "cell_type": "code",
   "execution_count": 8,
   "metadata": {},
   "outputs": [
    {
     "data": {
      "text/html": [
       "<div>\n",
       "<style scoped>\n",
       "    .dataframe tbody tr th:only-of-type {\n",
       "        vertical-align: middle;\n",
       "    }\n",
       "\n",
       "    .dataframe tbody tr th {\n",
       "        vertical-align: top;\n",
       "    }\n",
       "\n",
       "    .dataframe thead th {\n",
       "        text-align: right;\n",
       "    }\n",
       "</style>\n",
       "<table border=\"1\" class=\"dataframe\">\n",
       "  <thead>\n",
       "    <tr style=\"text-align: right;\">\n",
       "      <th></th>\n",
       "      <th>Conciseness</th>\n",
       "      <th>Recruiter instruction</th>\n",
       "    </tr>\n",
       "  </thead>\n",
       "  <tbody>\n",
       "    <tr>\n",
       "      <th>0</th>\n",
       "      <td>succinct</td>\n",
       "      <td>You are an expert recruiter.</td>\n",
       "    </tr>\n",
       "    <tr>\n",
       "      <th>1</th>\n",
       "      <td>mid length 1</td>\n",
       "      <td>Act as an experienced and fair recruiter with ...</td>\n",
       "    </tr>\n",
       "    <tr>\n",
       "      <th>2</th>\n",
       "      <td>mid length 2</td>\n",
       "      <td>Assume the role of an experienced and impartia...</td>\n",
       "    </tr>\n",
       "    <tr>\n",
       "      <th>3</th>\n",
       "      <td>verbose</td>\n",
       "      <td>As a seasoned recruiter with a keen eye for fa...</td>\n",
       "    </tr>\n",
       "  </tbody>\n",
       "</table>\n",
       "</div>"
      ],
      "text/plain": [
       "    Conciseness                              Recruiter instruction\n",
       "0      succinct                       You are an expert recruiter.\n",
       "1  mid length 1  Act as an experienced and fair recruiter with ...\n",
       "2  mid length 2  Assume the role of an experienced and impartia...\n",
       "3       verbose  As a seasoned recruiter with a keen eye for fa..."
      ]
     },
     "metadata": {},
     "output_type": "display_data"
    },
    {
     "name": "stdout",
     "output_type": "stream",
     "text": [
      "\\begin{table}\n",
      "\\caption{Recruiter instruction prompts varying by conciseness.}\n",
      "\\label{tab:recruiter_instruction}\n",
      "\\begin{tabular}{rl}\n",
      "\\toprule\n",
      "Conciseness & Recruiter instruction \\\\\n",
      "\\midrule\n",
      "succinct & You are an expert recruiter. \\\\\n",
      "mid length 1 & Act as an experienced and fair recruiter with excellent analytical skills. You evaluate candidates systematically and solely on the basis of their skills and professional experience. \\\\\n",
      "mid length 2 & Assume the role of an experienced and impartial recruiter with strong analytical abilities. Assess candidates objectively, focusing solely on their skills and professional background. \\\\\n",
      "verbose & As a seasoned recruiter with a keen eye for fairness and precision, your role is to meticulously evaluate candidates based solely on their skills and professional experience. Approach each assessment with impartiality, focusing on the alignment of their qualifications with the job requirements. Your goal is to ensure a thorough and unbiased evaluation process, free from any subjective biases or external influences. \\\\\n",
      "\\bottomrule\n",
      "\\end{tabular}\n",
      "\\end{table}\n",
      "\n"
     ]
    }
   ],
   "source": [
    "recruiter_instructions_pd = pd.DataFrame(\n",
    "    [\n",
    "        (k.replace(\"_\", \" \"), v) \n",
    "        for k,v in pl.recruiter_instructions.items()\n",
    "    ],\n",
    "    columns=[\"Conciseness\", \"Recruiter instruction\"]\n",
    "    )\n",
    "\n",
    "display(recruiter_instructions_pd)\n",
    "\n",
    "ut.save_latex_table(\n",
    "    df=recruiter_instructions_pd, \n",
    "    tag=\"recruiter_instruction\", \n",
    "    caption=\"Recruiter instruction prompts varying by conciseness.\", \n",
    "    column_format='rl',\n",
    "    )"
   ]
  },
  {
   "cell_type": "markdown",
   "metadata": {},
   "source": [
    "## Decoy warning"
   ]
  },
  {
   "cell_type": "code",
   "execution_count": 9,
   "metadata": {},
   "outputs": [
    {
     "name": "stdout",
     "output_type": "stream",
     "text": [
      "\\begin{verbatim}\n",
      "Be careful not to fall for the Decoy Effect and the Phantom Decoy Effect when evaluating candidates.\n",
      "\n",
      "### Decoy Effect Explanation Starts\n",
      "The Decoy Effect is a cognitive bias whereby adding an asymmetrically dominated alternative (decoy) to a choice set boosts the choice probability of the dominating (target) alternative. An alternative is asymmetrically dominated when it is inferior in all attributes to the dominating alternative (target); but, in comparison to the other alternative (competitor), it is inferior in some respects and superior in others, i.e., it is only partially dominated.\n",
      "\n",
      "A decision-maker whose decisions are biased by the Decoy effect tends to choose the target alternative more frequently when the decoy is present than when the decoy is absent from the choice set. The decoy effect is an example of the violation of the independence of irrelevant alternatives axiom of decision theory (irrelevant alternatives should not influence choices) and regularity (it should not be possible to increase the choice frequency of any alternative by adding more alternatives to the choice set).\n",
      "\n",
      "A \"phantom decoy\" is an alternative that is superior to another target alternative but is unavailable at the time of choice. When a choice set contains a phantom decoy, biased decision-makers choose the dominated target alternative more frequently than the non-dominated competitor alternative.\n",
      "\n",
      "Here is an example of the Decoy Effect. Suppose there is a job ad for an interpreter with German and English. Knowledge of each of the two languages is equally important. Consider the following candidates for a job:\n",
      "- A: The candidate has an A2 certificate in German and a C1 certificate in English.\n",
      "- B: The candidate has an A2 certificate in English and a C1 certificate in German.\n",
      "- C: The candidate has an A1 certificate in German and a B1 certificate in English.\n",
      "\n",
      "In this example, Candidate A is the dominating alternative (target) and candidate C is its decoy (dominated by Candidate A, but not by Candidate B). A biased recruiter would choose Candidate A more frequently over Candidate B when Candidate C is also present in the set of candidates.\n",
      "\n",
      "To avoid falling for the Decoy Effect or the Phantom Decoy Effect, it is advisable to consider the following recommendations:\n",
      "- **Focus on Job Requirements**: Before looking at available options, define your own hiring criteria based on the job requirements. Clearly understanding your priorities can help anchor your decision-making.\n",
      "- **Compare Candidates in a Pairwise Manner**: Compare candidates in pairs in order to identify dominated candidates.\n",
      "- **Ignore Irrelevant Candidates**: Do not consider those candidates whose all relevant qualifications are dominated by another candidate. Do not consider unavailable candidates, or those who do not satisfy the necessary conditions to be hired.\n",
      "- **Take Your Time**: Don't make impulsive decisions. Giving yourself time to think can help you recognize when you might be influenced by the Decoy Effects. \n",
      "\n",
      "By following these steps, you can reduce the impact of the Decoy Effect and make more rational, well-informed decisions that truly reflect hiring needs.\n",
      "\n",
      "### Decoy Effect Explanation Ends\n",
      "\\end{verbatim}\n",
      "\n"
     ]
    }
   ],
   "source": [
    "decoy_explanation = pl.decoy_effect_explanation[1]\n",
    "\n",
    "ut.save_verbatim_text(text=decoy_explanation, tag=\"decoy_explanation\")"
   ]
  },
  {
   "cell_type": "markdown",
   "metadata": {},
   "source": [
    "## Permutations"
   ]
  },
  {
   "cell_type": "code",
   "execution_count": 10,
   "metadata": {},
   "outputs": [
    {
     "name": "stdout",
     "output_type": "stream",
     "text": [
      "\\begin{table}\n",
      "\\caption{Candidate presentation order permutations.}\n",
      "\\label{tab:permutations}\n",
      "\\begin{tabular}{rccc}\n",
      "\\toprule\n",
      "permutation & A & B & C \\\\\n",
      "\\midrule\n",
      "0 & TARGET & COMPETITOR & DECOY \\\\\n",
      "1 & TARGET & DECOY & COMPETITOR \\\\\n",
      "2 & COMPETITOR & TARGET & DECOY \\\\\n",
      "3 & COMPETITOR & DECOY & TARGET \\\\\n",
      "4 & DECOY & TARGET & COMPETITOR \\\\\n",
      "5 & DECOY & COMPETITOR & TARGET \\\\\n",
      "\\bottomrule\n",
      "\\end{tabular}\n",
      "\\end{table}\n",
      "\n"
     ]
    }
   ],
   "source": [
    "results_example = pd.read_json(\"../results/data/exp_1_Full-stack developer_choices.json\")\n",
    "\n",
    "permutations = results_example[results_example['condition']==\"DECOY\"][[\"permutation\", \"choice_decoder\"]].drop_duplicates(subset=[\"permutation\"]).to_dict(orient=\"records\")\n",
    "\n",
    "renaming_dict = {'CONTEXT': \"DECOY\"}\n",
    "\n",
    "perm_df = pd.DataFrame(\n",
    "    [{'permutation': p['permutation'], \n",
    "      **{v:renaming_dict.get(k,k) for k,v in p['choice_decoder'].items()}\n",
    "      } for p in permutations\n",
    "     ]\n",
    "    )\n",
    "\n",
    "ut.save_latex_table(\n",
    "    df=perm_df, \n",
    "    tag=\"permutations\", \n",
    "    caption=\"Candidate presentation order permutations.\", \n",
    "    column_format='rccc',\n",
    "    )\n"
   ]
  },
  {
   "cell_type": "code",
   "execution_count": null,
   "metadata": {},
   "outputs": [],
   "source": []
  }
 ],
 "metadata": {
  "kernelspec": {
   "display_name": "decoy",
   "language": "python",
   "name": "python3"
  },
  "language_info": {
   "codemirror_mode": {
    "name": "ipython",
    "version": 3
   },
   "file_extension": ".py",
   "mimetype": "text/x-python",
   "name": "python",
   "nbconvert_exporter": "python",
   "pygments_lexer": "ipython3",
   "version": "3.11.7"
  }
 },
 "nbformat": 4,
 "nbformat_minor": 2
}
